{
 "cells": [
  {
   "cell_type": "code",
   "execution_count": 9,
   "metadata": {},
   "outputs": [],
   "source": [
    "import pandas as pd "
   ]
  },
  {
   "cell_type": "code",
   "execution_count": 11,
   "metadata": {},
   "outputs": [],
   "source": [
    "df = pd.read_csv(\"~/apps/chatbom/data/lds-scriptures-cleaned.csv\")"
   ]
  },
  {
   "cell_type": "code",
   "execution_count": 12,
   "metadata": {},
   "outputs": [
    {
     "data": {
      "text/html": [
       "<div>\n",
       "<style scoped>\n",
       "    .dataframe tbody tr th:only-of-type {\n",
       "        vertical-align: middle;\n",
       "    }\n",
       "\n",
       "    .dataframe tbody tr th {\n",
       "        vertical-align: top;\n",
       "    }\n",
       "\n",
       "    .dataframe thead th {\n",
       "        text-align: right;\n",
       "    }\n",
       "</style>\n",
       "<table border=\"1\" class=\"dataframe\">\n",
       "  <thead>\n",
       "    <tr style=\"text-align: right;\">\n",
       "      <th></th>\n",
       "      <th>volume_id</th>\n",
       "      <th>book_id</th>\n",
       "      <th>chapter_id</th>\n",
       "      <th>verse_id</th>\n",
       "      <th>volume_title</th>\n",
       "      <th>book_title</th>\n",
       "      <th>volume_long_title</th>\n",
       "      <th>book_long_title</th>\n",
       "      <th>volume_subtitle</th>\n",
       "      <th>book_subtitle</th>\n",
       "      <th>volume_short_title</th>\n",
       "      <th>book_short_title</th>\n",
       "      <th>volume_lds_url</th>\n",
       "      <th>book_lds_url</th>\n",
       "      <th>chapter_number</th>\n",
       "      <th>verse_number</th>\n",
       "      <th>scripture_text</th>\n",
       "      <th>verse_title</th>\n",
       "      <th>verse_short_title</th>\n",
       "    </tr>\n",
       "  </thead>\n",
       "  <tbody>\n",
       "    <tr>\n",
       "      <th>0</th>\n",
       "      <td>3</td>\n",
       "      <td>67</td>\n",
       "      <td>1190</td>\n",
       "      <td>31103</td>\n",
       "      <td>Book of Mormon</td>\n",
       "      <td>1 Nephi</td>\n",
       "      <td>The Book of Mormon</td>\n",
       "      <td>The First Book of Nephi</td>\n",
       "      <td>Another Testament of Jesus Christ</td>\n",
       "      <td>His Reign and Ministry</td>\n",
       "      <td>BoM</td>\n",
       "      <td>1 Ne.</td>\n",
       "      <td>bofm</td>\n",
       "      <td>1-ne</td>\n",
       "      <td>1</td>\n",
       "      <td>1</td>\n",
       "      <td>I, Nephi, having been born of goodly parents, ...</td>\n",
       "      <td>1 Nephi 1:1</td>\n",
       "      <td>1 Ne. 1:1</td>\n",
       "    </tr>\n",
       "    <tr>\n",
       "      <th>1</th>\n",
       "      <td>3</td>\n",
       "      <td>67</td>\n",
       "      <td>1190</td>\n",
       "      <td>31104</td>\n",
       "      <td>Book of Mormon</td>\n",
       "      <td>1 Nephi</td>\n",
       "      <td>The Book of Mormon</td>\n",
       "      <td>The First Book of Nephi</td>\n",
       "      <td>Another Testament of Jesus Christ</td>\n",
       "      <td>His Reign and Ministry</td>\n",
       "      <td>BoM</td>\n",
       "      <td>1 Ne.</td>\n",
       "      <td>bofm</td>\n",
       "      <td>1-ne</td>\n",
       "      <td>1</td>\n",
       "      <td>2</td>\n",
       "      <td>Yea, I make a record in the language of my fat...</td>\n",
       "      <td>1 Nephi 1:2</td>\n",
       "      <td>1 Ne. 1:2</td>\n",
       "    </tr>\n",
       "    <tr>\n",
       "      <th>2</th>\n",
       "      <td>3</td>\n",
       "      <td>67</td>\n",
       "      <td>1190</td>\n",
       "      <td>31105</td>\n",
       "      <td>Book of Mormon</td>\n",
       "      <td>1 Nephi</td>\n",
       "      <td>The Book of Mormon</td>\n",
       "      <td>The First Book of Nephi</td>\n",
       "      <td>Another Testament of Jesus Christ</td>\n",
       "      <td>His Reign and Ministry</td>\n",
       "      <td>BoM</td>\n",
       "      <td>1 Ne.</td>\n",
       "      <td>bofm</td>\n",
       "      <td>1-ne</td>\n",
       "      <td>1</td>\n",
       "      <td>3</td>\n",
       "      <td>And I know that the record which I make is tru...</td>\n",
       "      <td>1 Nephi 1:3</td>\n",
       "      <td>1 Ne. 1:3</td>\n",
       "    </tr>\n",
       "    <tr>\n",
       "      <th>3</th>\n",
       "      <td>3</td>\n",
       "      <td>67</td>\n",
       "      <td>1190</td>\n",
       "      <td>31106</td>\n",
       "      <td>Book of Mormon</td>\n",
       "      <td>1 Nephi</td>\n",
       "      <td>The Book of Mormon</td>\n",
       "      <td>The First Book of Nephi</td>\n",
       "      <td>Another Testament of Jesus Christ</td>\n",
       "      <td>His Reign and Ministry</td>\n",
       "      <td>BoM</td>\n",
       "      <td>1 Ne.</td>\n",
       "      <td>bofm</td>\n",
       "      <td>1-ne</td>\n",
       "      <td>1</td>\n",
       "      <td>4</td>\n",
       "      <td>For it came to pass in the commencement of the...</td>\n",
       "      <td>1 Nephi 1:4</td>\n",
       "      <td>1 Ne. 1:4</td>\n",
       "    </tr>\n",
       "    <tr>\n",
       "      <th>4</th>\n",
       "      <td>3</td>\n",
       "      <td>67</td>\n",
       "      <td>1190</td>\n",
       "      <td>31107</td>\n",
       "      <td>Book of Mormon</td>\n",
       "      <td>1 Nephi</td>\n",
       "      <td>The Book of Mormon</td>\n",
       "      <td>The First Book of Nephi</td>\n",
       "      <td>Another Testament of Jesus Christ</td>\n",
       "      <td>His Reign and Ministry</td>\n",
       "      <td>BoM</td>\n",
       "      <td>1 Ne.</td>\n",
       "      <td>bofm</td>\n",
       "      <td>1-ne</td>\n",
       "      <td>1</td>\n",
       "      <td>5</td>\n",
       "      <td>Wherefore it came to pass that my father, Lehi...</td>\n",
       "      <td>1 Nephi 1:5</td>\n",
       "      <td>1 Ne. 1:5</td>\n",
       "    </tr>\n",
       "  </tbody>\n",
       "</table>\n",
       "</div>"
      ],
      "text/plain": [
       "   volume_id  book_id  chapter_id  verse_id    volume_title book_title  \\\n",
       "0          3       67        1190     31103  Book of Mormon    1 Nephi   \n",
       "1          3       67        1190     31104  Book of Mormon    1 Nephi   \n",
       "2          3       67        1190     31105  Book of Mormon    1 Nephi   \n",
       "3          3       67        1190     31106  Book of Mormon    1 Nephi   \n",
       "4          3       67        1190     31107  Book of Mormon    1 Nephi   \n",
       "\n",
       "    volume_long_title          book_long_title  \\\n",
       "0  The Book of Mormon  The First Book of Nephi   \n",
       "1  The Book of Mormon  The First Book of Nephi   \n",
       "2  The Book of Mormon  The First Book of Nephi   \n",
       "3  The Book of Mormon  The First Book of Nephi   \n",
       "4  The Book of Mormon  The First Book of Nephi   \n",
       "\n",
       "                     volume_subtitle           book_subtitle  \\\n",
       "0  Another Testament of Jesus Christ  His Reign and Ministry   \n",
       "1  Another Testament of Jesus Christ  His Reign and Ministry   \n",
       "2  Another Testament of Jesus Christ  His Reign and Ministry   \n",
       "3  Another Testament of Jesus Christ  His Reign and Ministry   \n",
       "4  Another Testament of Jesus Christ  His Reign and Ministry   \n",
       "\n",
       "  volume_short_title book_short_title volume_lds_url book_lds_url  \\\n",
       "0                BoM            1 Ne.           bofm         1-ne   \n",
       "1                BoM            1 Ne.           bofm         1-ne   \n",
       "2                BoM            1 Ne.           bofm         1-ne   \n",
       "3                BoM            1 Ne.           bofm         1-ne   \n",
       "4                BoM            1 Ne.           bofm         1-ne   \n",
       "\n",
       "   chapter_number  verse_number  \\\n",
       "0               1             1   \n",
       "1               1             2   \n",
       "2               1             3   \n",
       "3               1             4   \n",
       "4               1             5   \n",
       "\n",
       "                                      scripture_text  verse_title  \\\n",
       "0  I, Nephi, having been born of goodly parents, ...  1 Nephi 1:1   \n",
       "1  Yea, I make a record in the language of my fat...  1 Nephi 1:2   \n",
       "2  And I know that the record which I make is tru...  1 Nephi 1:3   \n",
       "3  For it came to pass in the commencement of the...  1 Nephi 1:4   \n",
       "4  Wherefore it came to pass that my father, Lehi...  1 Nephi 1:5   \n",
       "\n",
       "  verse_short_title  \n",
       "0         1 Ne. 1:1  \n",
       "1         1 Ne. 1:2  \n",
       "2         1 Ne. 1:3  \n",
       "3         1 Ne. 1:4  \n",
       "4         1 Ne. 1:5  "
      ]
     },
     "execution_count": 12,
     "metadata": {},
     "output_type": "execute_result"
    }
   ],
   "source": [
    "df.head()"
   ]
  },
  {
   "cell_type": "code",
   "execution_count": 7,
   "metadata": {},
   "outputs": [],
   "source": [
    "# test pinecone connection \n",
    "import pinecone \n",
    "pinecone.init(api_key = \"93421e0e-b7bf-4885-b9b6-3e599940c0be\", environment = \"us-east1-gcp\")"
   ]
  },
  {
   "cell_type": "code",
   "execution_count": 8,
   "metadata": {},
   "outputs": [
    {
     "data": {
      "text/plain": [
       "['chatbom']"
      ]
     },
     "execution_count": 8,
     "metadata": {},
     "output_type": "execute_result"
    }
   ],
   "source": [
    "pinecone.list_indexes()"
   ]
  },
  {
   "cell_type": "code",
   "execution_count": 2,
   "metadata": {},
   "outputs": [],
   "source": [
    "df4 = pd.DataFrame(\n",
    "    {\n",
    "        \"B\": [\"B2\", \"B3\", \"B6\", \"B7\"],\n",
    "        \"D\": [\"D2\", \"D3\", \"D6\", \"D7\"],\n",
    "        \"F\": [\"F2\", \"F3\", \"F6\", \"F7\"],\n",
    "    },\n",
    "    index=[2, 3, 6, 7],\n",
    ")"
   ]
  },
  {
   "cell_type": "code",
   "execution_count": 3,
   "metadata": {},
   "outputs": [],
   "source": [
    "df1 = pd.DataFrame(\n",
    "\n",
    "    {\n",
    "        \"A\": [\"A0\", \"A1\", \"A2\", \"A3\"],\n",
    "        \"B\": [\"B0\", \"B1\", \"B2\", \"B3\"],\n",
    "        \"C\": [\"C0\", \"C1\", \"C2\", \"C3\"]\n",
    "    }\n",
    "\n",
    ")"
   ]
  },
  {
   "cell_type": "code",
   "execution_count": 11,
   "metadata": {},
   "outputs": [],
   "source": [
    "df = pd.concat([df1, df4], axis = 1, join = 'inner')"
   ]
  },
  {
   "cell_type": "code",
   "execution_count": 9,
   "metadata": {},
   "outputs": [
    {
     "data": {
      "text/html": [
       "<div>\n",
       "<style scoped>\n",
       "    .dataframe tbody tr th:only-of-type {\n",
       "        vertical-align: middle;\n",
       "    }\n",
       "\n",
       "    .dataframe tbody tr th {\n",
       "        vertical-align: top;\n",
       "    }\n",
       "\n",
       "    .dataframe thead th {\n",
       "        text-align: right;\n",
       "    }\n",
       "</style>\n",
       "<table border=\"1\" class=\"dataframe\">\n",
       "  <thead>\n",
       "    <tr style=\"text-align: right;\">\n",
       "      <th></th>\n",
       "      <th>A</th>\n",
       "      <th>B</th>\n",
       "      <th>C</th>\n",
       "      <th>B</th>\n",
       "      <th>D</th>\n",
       "      <th>F</th>\n",
       "    </tr>\n",
       "  </thead>\n",
       "  <tbody>\n",
       "    <tr>\n",
       "      <th>0</th>\n",
       "      <td>A0</td>\n",
       "      <td>B0</td>\n",
       "      <td>C0</td>\n",
       "      <td>NaN</td>\n",
       "      <td>NaN</td>\n",
       "      <td>NaN</td>\n",
       "    </tr>\n",
       "    <tr>\n",
       "      <th>1</th>\n",
       "      <td>A1</td>\n",
       "      <td>B1</td>\n",
       "      <td>C1</td>\n",
       "      <td>NaN</td>\n",
       "      <td>NaN</td>\n",
       "      <td>NaN</td>\n",
       "    </tr>\n",
       "    <tr>\n",
       "      <th>2</th>\n",
       "      <td>A2</td>\n",
       "      <td>B2</td>\n",
       "      <td>C2</td>\n",
       "      <td>B2</td>\n",
       "      <td>D2</td>\n",
       "      <td>F2</td>\n",
       "    </tr>\n",
       "    <tr>\n",
       "      <th>3</th>\n",
       "      <td>A3</td>\n",
       "      <td>B3</td>\n",
       "      <td>C3</td>\n",
       "      <td>B3</td>\n",
       "      <td>D3</td>\n",
       "      <td>F3</td>\n",
       "    </tr>\n",
       "    <tr>\n",
       "      <th>6</th>\n",
       "      <td>NaN</td>\n",
       "      <td>NaN</td>\n",
       "      <td>NaN</td>\n",
       "      <td>B6</td>\n",
       "      <td>D6</td>\n",
       "      <td>F6</td>\n",
       "    </tr>\n",
       "  </tbody>\n",
       "</table>\n",
       "</div>"
      ],
      "text/plain": [
       "     A    B    C    B    D    F\n",
       "0   A0   B0   C0  NaN  NaN  NaN\n",
       "1   A1   B1   C1  NaN  NaN  NaN\n",
       "2   A2   B2   C2   B2   D2   F2\n",
       "3   A3   B3   C3   B3   D3   F3\n",
       "6  NaN  NaN  NaN   B6   D6   F6"
      ]
     },
     "execution_count": 9,
     "metadata": {},
     "output_type": "execute_result"
    }
   ],
   "source": [
    "df.head()"
   ]
  },
  {
   "cell_type": "code",
   "execution_count": 19,
   "metadata": {},
   "outputs": [
    {
     "data": {
      "text/html": [
       "<div>\n",
       "<style scoped>\n",
       "    .dataframe tbody tr th:only-of-type {\n",
       "        vertical-align: middle;\n",
       "    }\n",
       "\n",
       "    .dataframe tbody tr th {\n",
       "        vertical-align: top;\n",
       "    }\n",
       "\n",
       "    .dataframe thead th {\n",
       "        text-align: right;\n",
       "    }\n",
       "</style>\n",
       "<table border=\"1\" class=\"dataframe\">\n",
       "  <thead>\n",
       "    <tr style=\"text-align: right;\">\n",
       "      <th></th>\n",
       "      <th>A</th>\n",
       "      <th>B</th>\n",
       "      <th>C</th>\n",
       "    </tr>\n",
       "  </thead>\n",
       "  <tbody>\n",
       "    <tr>\n",
       "      <th>2</th>\n",
       "      <td>A2</td>\n",
       "      <td>B2</td>\n",
       "      <td>C2</td>\n",
       "    </tr>\n",
       "    <tr>\n",
       "      <th>3</th>\n",
       "      <td>A3</td>\n",
       "      <td>B3</td>\n",
       "      <td>C3</td>\n",
       "    </tr>\n",
       "  </tbody>\n",
       "</table>\n",
       "</div>"
      ],
      "text/plain": [
       "    A   B   C\n",
       "2  A2  B2  C2\n",
       "3  A3  B3  C3"
      ]
     },
     "execution_count": 19,
     "metadata": {},
     "output_type": "execute_result"
    }
   ],
   "source": [
    "df.iloc[0:3, 0:3]"
   ]
  },
  {
   "cell_type": "code",
   "execution_count": 30,
   "metadata": {},
   "outputs": [
    {
     "data": {
      "text/plain": [
       "A    A2\n",
       "B    B2\n",
       "C    C2\n",
       "B    B2\n",
       "D    D2\n",
       "F    F2\n",
       "Name: 2, dtype: object"
      ]
     },
     "execution_count": 30,
     "metadata": {},
     "output_type": "execute_result"
    }
   ],
   "source": [
    "df.loc[2]"
   ]
  },
  {
   "cell_type": "code",
   "execution_count": null,
   "metadata": {},
   "outputs": [],
   "source": []
  }
 ],
 "metadata": {
  "kernelspec": {
   "display_name": "Python 3",
   "language": "python",
   "name": "python3"
  },
  "language_info": {
   "codemirror_mode": {
    "name": "ipython",
    "version": 3
   },
   "file_extension": ".py",
   "mimetype": "text/x-python",
   "name": "python",
   "nbconvert_exporter": "python",
   "pygments_lexer": "ipython3",
   "version": "3.10.9"
  },
  "vscode": {
   "interpreter": {
    "hash": "aee8b7b246df8f9039afb4144a1f6fd8d2ca17a180786b69acc140d282b71a49"
   }
  }
 },
 "nbformat": 4,
 "nbformat_minor": 4
}
