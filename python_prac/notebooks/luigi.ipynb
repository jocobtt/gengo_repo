{
 "cells": [
  {
   "cell_type": "code",
   "execution_count": 1,
   "metadata": {},
   "outputs": [],
   "source": [
    "import luigi "
   ]
  },
  {
   "cell_type": "code",
   "execution_count": null,
   "metadata": {},
   "outputs": [],
   "source": [
    "# https://github.com/spotify/luigi/tree/master/examples"
   ]
  },
  {
   "cell_type": "code",
   "execution_count": 3,
   "metadata": {},
   "outputs": [
    {
     "name": "stderr",
     "output_type": "stream",
     "text": [
      "DEBUG: Checking if examples.HelloWorldTask() is complete\n",
      "/usr/local/lib/python3.7/site-packages/luigi/worker.py:401: UserWarning: Task examples.HelloWorldTask() without outputs has no custom complete() method\n",
      "  is_complete = task.complete()\n",
      "INFO: Informed scheduler that task   examples.HelloWorldTask__99914b932b   has status   PENDING\n",
      "INFO: Done scheduling tasks\n",
      "INFO: Running Worker with 1 processes\n",
      "DEBUG: Asking scheduler for work...\n",
      "DEBUG: Pending tasks: 1\n",
      "INFO: [pid 63888] Worker Worker(salt=210041903, workers=1, host=mlc285, username=jabras, pid=63888) running   examples.HelloWorldTask()\n",
      "INFO: [pid 63888] Worker Worker(salt=210041903, workers=1, host=mlc285, username=jabras, pid=63888) done      examples.HelloWorldTask()\n",
      "DEBUG: 1 running tasks, waiting for next task to finish\n",
      "INFO: Informed scheduler that task   examples.HelloWorldTask__99914b932b   has status   DONE\n",
      "DEBUG: Asking scheduler for work...\n",
      "DEBUG: Done\n",
      "DEBUG: There are no more tasks to run at this time\n",
      "INFO: Worker Worker(salt=210041903, workers=1, host=mlc285, username=jabras, pid=63888) was stopped. Shutting down Keep-Alive thread\n",
      "INFO: \n",
      "===== Luigi Execution Summary =====\n",
      "\n",
      "Scheduled 1 tasks of which:\n",
      "* 1 ran successfully:\n",
      "    - 1 examples.HelloWorldTask()\n",
      "\n",
      "This progress looks :) because there were no failed tasks or missing dependencies\n",
      "\n",
      "===== Luigi Execution Summary =====\n",
      "\n"
     ]
    },
    {
     "name": "stdout",
     "output_type": "stream",
     "text": [
      "HelloWorldTask says: Hello world!\n"
     ]
    }
   ],
   "source": [
    "class HelloWorldTask(luigi.Task):\n",
    "    task_namespace = 'examples'\n",
    "\n",
    "    def run(self):\n",
    "        print(\"{task} says: Hello world!\".format(task=self.__class__.__name__))\n",
    "\n",
    "\n",
    "if __name__ == '__main__':\n",
    "    luigi.run(['examples.HelloWorldTask', '--workers', '1', '--local-scheduler'])"
   ]
  },
  {
   "cell_type": "code",
   "execution_count": null,
   "metadata": {},
   "outputs": [],
   "source": []
  }
 ],
 "metadata": {
  "kernelspec": {
   "display_name": "Python 3",
   "language": "python",
   "name": "python3"
  },
  "language_info": {
   "codemirror_mode": {
    "name": "ipython",
    "version": 3
   },
   "file_extension": ".py",
   "mimetype": "text/x-python",
   "name": "python",
   "nbconvert_exporter": "python",
   "pygments_lexer": "ipython3",
   "version": "3.7.7"
  }
 },
 "nbformat": 4,
 "nbformat_minor": 2
}
