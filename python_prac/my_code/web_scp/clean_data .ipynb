{
 "cells": [
  {
   "cell_type": "code",
   "execution_count": 32,
   "metadata": {},
   "outputs": [],
   "source": [
    "import pandas as pd \n",
    "import numpy as np \n",
    "import seaborn as sns \n",
    "import os \n",
    "from bs4 import BeautifulSoup"
   ]
  },
  {
   "cell_type": "code",
   "execution_count": 47,
   "metadata": {},
   "outputs": [],
   "source": [
    "df = pd.read_csv('apartment.csv')"
   ]
  },
  {
   "cell_type": "code",
   "execution_count": 49,
   "metadata": {
    "scrolled": true
   },
   "outputs": [
    {
     "data": {
      "text/html": [
       "<div>\n",
       "<style scoped>\n",
       "    .dataframe tbody tr th:only-of-type {\n",
       "        vertical-align: middle;\n",
       "    }\n",
       "\n",
       "    .dataframe tbody tr th {\n",
       "        vertical-align: top;\n",
       "    }\n",
       "\n",
       "    .dataframe thead th {\n",
       "        text-align: right;\n",
       "    }\n",
       "</style>\n",
       "<table border=\"1\" class=\"dataframe\">\n",
       "  <thead>\n",
       "    <tr style=\"text-align: right;\">\n",
       "      <th></th>\n",
       "      <th>rent_price</th>\n",
       "      <th>address</th>\n",
       "      <th>sqr_m</th>\n",
       "      <th>name_place</th>\n",
       "      <th>rei_price</th>\n",
       "      <th>maintenence_price</th>\n",
       "      <th>nearest_eki</th>\n",
       "      <th>apartment_type</th>\n",
       "      <th>year_built</th>\n",
       "      <th>ku_name</th>\n",
       "      <th>floor</th>\n",
       "      <th>house_type</th>\n",
       "    </tr>\n",
       "  </thead>\n",
       "  <tbody>\n",
       "    <tr>\n",
       "      <th>445</th>\n",
       "      <td>8.9万円</td>\n",
       "      <td>東京都品川区南品川１</td>\n",
       "      <td>21m2</td>\n",
       "      <td>東京都品川区南品川１</td>\n",
       "      <td>-</td>\n",
       "      <td>10000円</td>\n",
       "      <td>&lt;div class=\"cassetteitem_detail-text\"&gt;京急本線/新馬場...</td>\n",
       "      <td>1K</td>\n",
       "      <td>15階建\\n</td>\n",
       "      <td>└ 千代田区(12,131)</td>\n",
       "      <td>築2年</td>\n",
       "      <td>賃貸マンション</td>\n",
       "    </tr>\n",
       "    <tr>\n",
       "      <th>446</th>\n",
       "      <td>14.7万円</td>\n",
       "      <td>東京都中央区新川２</td>\n",
       "      <td>41.36m2</td>\n",
       "      <td>東京都中央区新川２</td>\n",
       "      <td>14.7万円</td>\n",
       "      <td>10000円</td>\n",
       "      <td>&lt;div class=\"cassetteitem_detail-text\"&gt;東京メトロ日比谷...</td>\n",
       "      <td>1DK</td>\n",
       "      <td>\\n地下4地上35階建\\n</td>\n",
       "      <td>└ 千代田区(12,131)</td>\n",
       "      <td>築26年</td>\n",
       "      <td>賃貸マンション</td>\n",
       "    </tr>\n",
       "    <tr>\n",
       "      <th>447</th>\n",
       "      <td>13.3万円</td>\n",
       "      <td>東京都荒川区東日暮里６</td>\n",
       "      <td>40.5m2</td>\n",
       "      <td>東京都荒川区東日暮里６</td>\n",
       "      <td>13.3万円</td>\n",
       "      <td>7000円</td>\n",
       "      <td>&lt;div class=\"cassetteitem_detail-text\"&gt;ＪＲ山手線/日暮...</td>\n",
       "      <td>1LDK</td>\n",
       "      <td>4階建\\n</td>\n",
       "      <td>└ 千代田区(12,131)</td>\n",
       "      <td>築6年</td>\n",
       "      <td>賃貸マンション</td>\n",
       "    </tr>\n",
       "    <tr>\n",
       "      <th>448</th>\n",
       "      <td>13万円</td>\n",
       "      <td>東京都荒川区西日暮里５</td>\n",
       "      <td>42.93m2</td>\n",
       "      <td>東京都荒川区西日暮里５</td>\n",
       "      <td>13万円</td>\n",
       "      <td>10000円</td>\n",
       "      <td>&lt;div class=\"cassetteitem_detail-text\"&gt;ＪＲ山手線/西日...</td>\n",
       "      <td>1LDK</td>\n",
       "      <td>\\n6階建\\n</td>\n",
       "      <td>└ 千代田区(12,131)</td>\n",
       "      <td>築19年</td>\n",
       "      <td>賃貸マンション</td>\n",
       "    </tr>\n",
       "    <tr>\n",
       "      <th>449</th>\n",
       "      <td>10.79万円</td>\n",
       "      <td>東京都新宿区新小川町</td>\n",
       "      <td>26.2m2</td>\n",
       "      <td>東京都新宿区新小川町</td>\n",
       "      <td>10.79万円</td>\n",
       "      <td>12050円</td>\n",
       "      <td>&lt;div class=\"cassetteitem_detail-text\"&gt;ＪＲ総武線/飯田...</td>\n",
       "      <td>1DK</td>\n",
       "      <td>14階建\\n</td>\n",
       "      <td>└ 千代田区(12,131)</td>\n",
       "      <td>築9年</td>\n",
       "      <td>賃貸マンション</td>\n",
       "    </tr>\n",
       "  </tbody>\n",
       "</table>\n",
       "</div>"
      ],
      "text/plain": [
       "    rent_price      address    sqr_m   name_place rei_price maintenence_price  \\\n",
       "445      8.9万円   東京都品川区南品川１     21m2   東京都品川区南品川１         -            10000円   \n",
       "446     14.7万円    東京都中央区新川２  41.36m2    東京都中央区新川２    14.7万円            10000円   \n",
       "447     13.3万円  東京都荒川区東日暮里６   40.5m2  東京都荒川区東日暮里６    13.3万円             7000円   \n",
       "448       13万円  東京都荒川区西日暮里５  42.93m2  東京都荒川区西日暮里５      13万円            10000円   \n",
       "449    10.79万円   東京都新宿区新小川町   26.2m2   東京都新宿区新小川町   10.79万円            12050円   \n",
       "\n",
       "                                           nearest_eki apartment_type  \\\n",
       "445  <div class=\"cassetteitem_detail-text\">京急本線/新馬場...             1K   \n",
       "446  <div class=\"cassetteitem_detail-text\">東京メトロ日比谷...            1DK   \n",
       "447  <div class=\"cassetteitem_detail-text\">ＪＲ山手線/日暮...           1LDK   \n",
       "448  <div class=\"cassetteitem_detail-text\">ＪＲ山手線/西日...           1LDK   \n",
       "449  <div class=\"cassetteitem_detail-text\">ＪＲ総武線/飯田...            1DK   \n",
       "\n",
       "        year_built         ku_name floor house_type  \n",
       "445         15階建\\n  └ 千代田区(12,131)   築2年    賃貸マンション  \n",
       "446  \\n地下4地上35階建\\n  └ 千代田区(12,131)  築26年    賃貸マンション  \n",
       "447          4階建\\n  └ 千代田区(12,131)   築6年    賃貸マンション  \n",
       "448        \\n6階建\\n  └ 千代田区(12,131)  築19年    賃貸マンション  \n",
       "449         14階建\\n  └ 千代田区(12,131)   築9年    賃貸マンション  "
      ]
     },
     "execution_count": 49,
     "metadata": {},
     "output_type": "execute_result"
    }
   ],
   "source": [
    "df.tail()"
   ]
  },
  {
   "cell_type": "code",
   "execution_count": null,
   "metadata": {},
   "outputs": [],
   "source": [
    "# need to clean first row, nearest_eki, year_built, and ku-name. \n"
   ]
  },
  {
   "cell_type": "code",
   "execution_count": 52,
   "metadata": {},
   "outputs": [
    {
     "data": {
      "text/plain": [
       "0           10階建\n",
       "1            2階建\n",
       "2            8階建\n",
       "3            9階建\n",
       "4            3階建\n",
       "         ...    \n",
       "445         15階建\n",
       "446    地下4地上35階建\n",
       "447          4階建\n",
       "448          6階建\n",
       "449         14階建\n",
       "Name: year_built, Length: 450, dtype: object"
      ]
     },
     "execution_count": 52,
     "metadata": {},
     "output_type": "execute_result"
    }
   ],
   "source": [
    "# fix year_built \n",
    "df.year_built.str.replace('\\n', '')"
   ]
  },
  {
   "cell_type": "code",
   "execution_count": 61,
   "metadata": {},
   "outputs": [
    {
     "data": {
      "text/plain": [
       "array(['\\n10階建\\n', '\\n2階建\\n', '8階建\\n', '9階建\\n', '\\n3階建\\n', '\\n9階建\\n',\n",
       "       '\\n5階建\\n', '\\n6階建\\n', '階建\\n', '14階建\\n', '3階建\\n', '17階建\\n', '4階建\\n',\n",
       "       '\\n4階建\\n', '下1地上3階建\\n', '\\n地下1地上12階建\\n', '\\n14階建\\n', '\\n7階建\\n',\n",
       "       '\\n地下1地上17階建\\n', '0階建\\n', '11階建\\n', '13階建\\n', '\\n8階建\\n',\n",
       "       '\\n11階建\\n', '2階建\\n', '地下1地上14階建\\n', '15階建\\n', '\\n地下4地上35階建\\n',\n",
       "       '\\n地下1地上7階建\\n', '下1地上14階建\\n'], dtype=object)"
      ]
     },
     "execution_count": 61,
     "metadata": {},
     "output_type": "execute_result"
    }
   ],
   "source": [
    "df.year_built.unique()"
   ]
  },
  {
   "cell_type": "code",
   "execution_count": 35,
   "metadata": {},
   "outputs": [],
   "source": [
    "df.ku_name = df.ku_name.str.split('(').str[0]\n",
    "df.ku_name = df.ku_name.str[1:]"
   ]
  },
  {
   "cell_type": "code",
   "execution_count": 36,
   "metadata": {
    "scrolled": true
   },
   "outputs": [
    {
     "data": {
      "text/plain": [
       "0     千代田区\n",
       "1     千代田区\n",
       "2     千代田区\n",
       "3     千代田区\n",
       "4     千代田区\n",
       "Name: ku_name, dtype: object"
      ]
     },
     "execution_count": 36,
     "metadata": {},
     "output_type": "execute_result"
    }
   ],
   "source": [
    "df.ku_name.head()"
   ]
  },
  {
   "cell_type": "code",
   "execution_count": 26,
   "metadata": {},
   "outputs": [
    {
     "data": {
      "text/plain": [
       "array(['\\xa0千代田区'], dtype=object)"
      ]
     },
     "execution_count": 26,
     "metadata": {},
     "output_type": "execute_result"
    }
   ],
   "source": [
    "df.ku_name.unique()"
   ]
  },
  {
   "cell_type": "code",
   "execution_count": 37,
   "metadata": {},
   "outputs": [],
   "source": [
    "df.nearest_eki = df.nearest_eki.str.split('\">').str[1]\n",
    "df.nearest_eki = df.nearest_eki.str.split('</').str[0]"
   ]
  },
  {
   "cell_type": "code",
   "execution_count": 56,
   "metadata": {},
   "outputs": [],
   "source": [
    "# drop m2\n",
    "#df.sqr_m = df.sqr_m.str.split('m2').str[0]\n",
    "df.sqr_m = df.sqr_m.astype(float)"
   ]
  },
  {
   "cell_type": "code",
   "execution_count": 50,
   "metadata": {},
   "outputs": [
    {
     "data": {
      "text/plain": [
       "0        9.3\n",
       "1         17\n",
       "2        8.6\n",
       "3        8.5\n",
       "4        7.8\n",
       "       ...  \n",
       "445      8.9\n",
       "446     14.7\n",
       "447     13.3\n",
       "448       13\n",
       "449    10.79\n",
       "Name: rent_price, Length: 450, dtype: object"
      ]
     },
     "execution_count": 50,
     "metadata": {},
     "output_type": "execute_result"
    }
   ],
   "source": [
    "# drop yen symbol and add proper digits to rent price etc. \n",
    "#get rid of decimal \n",
    "#df.rent_price.str.\n",
    "df.rent_price.str.replace('万円', '')"
   ]
  },
  {
   "cell_type": "code",
   "execution_count": null,
   "metadata": {},
   "outputs": [],
   "source": [
    "# convert rent_price to proper decimal sign \n",
    "# man = 10,000. 9.3== 93,000. "
   ]
  },
  {
   "cell_type": "code",
   "execution_count": 27,
   "metadata": {},
   "outputs": [
    {
     "data": {
      "text/html": [
       "<div>\n",
       "<style scoped>\n",
       "    .dataframe tbody tr th:only-of-type {\n",
       "        vertical-align: middle;\n",
       "    }\n",
       "\n",
       "    .dataframe tbody tr th {\n",
       "        vertical-align: top;\n",
       "    }\n",
       "\n",
       "    .dataframe thead th {\n",
       "        text-align: right;\n",
       "    }\n",
       "</style>\n",
       "<table border=\"1\" class=\"dataframe\">\n",
       "  <thead>\n",
       "    <tr style=\"text-align: right;\">\n",
       "      <th></th>\n",
       "      <th>rent_price</th>\n",
       "      <th>address</th>\n",
       "      <th>sqr_m</th>\n",
       "      <th>name_place</th>\n",
       "      <th>rei_price</th>\n",
       "      <th>maintenence_price</th>\n",
       "      <th>nearest_eki</th>\n",
       "      <th>apartment_type</th>\n",
       "      <th>year_built</th>\n",
       "      <th>ku_name</th>\n",
       "      <th>floor</th>\n",
       "      <th>house_type</th>\n",
       "    </tr>\n",
       "  </thead>\n",
       "  <tbody>\n",
       "    <tr>\n",
       "      <th>0</th>\n",
       "      <td>9.3万円</td>\n",
       "      <td>東京都荒川区町屋３</td>\n",
       "      <td>30.89m2</td>\n",
       "      <td>東京都荒川区町屋３</td>\n",
       "      <td>4.65万円</td>\n",
       "      <td>6000円</td>\n",
       "      <td>東京メトロ千代田線/町屋駅 歩6分</td>\n",
       "      <td>2K</td>\n",
       "      <td>\\n10階建\\n</td>\n",
       "      <td>千代田区</td>\n",
       "      <td>築20年</td>\n",
       "      <td>賃貸マンション</td>\n",
       "    </tr>\n",
       "    <tr>\n",
       "      <th>1</th>\n",
       "      <td>17万円</td>\n",
       "      <td>東京都中野区新井１</td>\n",
       "      <td>46.7m2</td>\n",
       "      <td>東京都中野区新井１</td>\n",
       "      <td>17万円</td>\n",
       "      <td>3000円</td>\n",
       "      <td>ＪＲ中央線/中野駅 歩7分</td>\n",
       "      <td>2K</td>\n",
       "      <td>\\n2階建\\n</td>\n",
       "      <td>千代田区</td>\n",
       "      <td>築13年</td>\n",
       "      <td>賃貸アパート</td>\n",
       "    </tr>\n",
       "    <tr>\n",
       "      <th>2</th>\n",
       "      <td>8.6万円</td>\n",
       "      <td>東京都江東区大島８</td>\n",
       "      <td>25.51m2</td>\n",
       "      <td>東京都江東区大島８</td>\n",
       "      <td>12.9万円</td>\n",
       "      <td>9000円</td>\n",
       "      <td>都営新宿線/大島駅 歩5分</td>\n",
       "      <td>2K</td>\n",
       "      <td>8階建\\n</td>\n",
       "      <td>千代田区</td>\n",
       "      <td>築3年</td>\n",
       "      <td>賃貸マンション</td>\n",
       "    </tr>\n",
       "    <tr>\n",
       "      <th>3</th>\n",
       "      <td>8.5万円</td>\n",
       "      <td>東京都荒川区東日暮里６</td>\n",
       "      <td>25.46m2</td>\n",
       "      <td>東京都荒川区東日暮里６</td>\n",
       "      <td>8.5万円</td>\n",
       "      <td>7000円</td>\n",
       "      <td>ＪＲ山手線/日暮里駅 歩5分</td>\n",
       "      <td>1DK</td>\n",
       "      <td>9階建\\n</td>\n",
       "      <td>千代田区</td>\n",
       "      <td>築7年</td>\n",
       "      <td>賃貸マンション</td>\n",
       "    </tr>\n",
       "    <tr>\n",
       "      <th>4</th>\n",
       "      <td>7.8万円</td>\n",
       "      <td>東京都荒川区東尾久５</td>\n",
       "      <td>26.73m2</td>\n",
       "      <td>東京都荒川区東尾久５</td>\n",
       "      <td>-</td>\n",
       "      <td>-</td>\n",
       "      <td>ＪＲ山手線/田端駅 歩14分</td>\n",
       "      <td>2K</td>\n",
       "      <td>\\n3階建\\n</td>\n",
       "      <td>千代田区</td>\n",
       "      <td>築43年</td>\n",
       "      <td>賃貸マンション</td>\n",
       "    </tr>\n",
       "  </tbody>\n",
       "</table>\n",
       "</div>"
      ],
      "text/plain": [
       "  rent_price      address    sqr_m   name_place rei_price maintenence_price  \\\n",
       "0      9.3万円    東京都荒川区町屋３  30.89m2    東京都荒川区町屋３    4.65万円             6000円   \n",
       "1       17万円    東京都中野区新井１   46.7m2    東京都中野区新井１      17万円             3000円   \n",
       "2      8.6万円    東京都江東区大島８  25.51m2    東京都江東区大島８    12.9万円             9000円   \n",
       "3      8.5万円  東京都荒川区東日暮里６  25.46m2  東京都荒川区東日暮里６     8.5万円             7000円   \n",
       "4      7.8万円   東京都荒川区東尾久５  26.73m2   東京都荒川区東尾久５         -                 -   \n",
       "\n",
       "         nearest_eki apartment_type year_built ku_name floor house_type  \n",
       "0  東京メトロ千代田線/町屋駅 歩6分             2K   \\n10階建\\n    千代田区  築20年    賃貸マンション  \n",
       "1      ＪＲ中央線/中野駅 歩7分             2K    \\n2階建\\n    千代田区  築13年     賃貸アパート  \n",
       "2      都営新宿線/大島駅 歩5分             2K      8階建\\n    千代田区   築3年    賃貸マンション  \n",
       "3     ＪＲ山手線/日暮里駅 歩5分            1DK      9階建\\n    千代田区   築7年    賃貸マンション  \n",
       "4     ＪＲ山手線/田端駅 歩14分             2K    \\n3階建\\n    千代田区  築43年    賃貸マンション  "
      ]
     },
     "execution_count": 27,
     "metadata": {},
     "output_type": "execute_result"
    }
   ],
   "source": [
    "df.head()"
   ]
  },
  {
   "cell_type": "code",
   "execution_count": 57,
   "metadata": {},
   "outputs": [
    {
     "data": {
      "text/plain": [
       "array(['2K', '1DK', '1K', '1LDK', '2DK'], dtype=object)"
      ]
     },
     "execution_count": 57,
     "metadata": {},
     "output_type": "execute_result"
    }
   ],
   "source": []
  },
  {
   "cell_type": "code",
   "execution_count": 28,
   "metadata": {
    "scrolled": true
   },
   "outputs": [
    {
     "name": "stdout",
     "output_type": "stream",
     "text": [
      "<class 'pandas.core.frame.DataFrame'>\n",
      "RangeIndex: 450 entries, 0 to 449\n",
      "Data columns (total 12 columns):\n",
      " #   Column             Non-Null Count  Dtype \n",
      "---  ------             --------------  ----- \n",
      " 0   rent_price         450 non-null    object\n",
      " 1   address            450 non-null    object\n",
      " 2   sqr_m              450 non-null    object\n",
      " 3   name_place         450 non-null    object\n",
      " 4   rei_price          450 non-null    object\n",
      " 5   maintenence_price  450 non-null    object\n",
      " 6   nearest_eki        450 non-null    object\n",
      " 7   apartment_type     450 non-null    object\n",
      " 8   year_built         450 non-null    object\n",
      " 9   ku_name            450 non-null    object\n",
      " 10  floor              450 non-null    object\n",
      " 11  house_type         450 non-null    object\n",
      "dtypes: object(12)\n",
      "memory usage: 42.3+ KB\n"
     ]
    }
   ],
   "source": [
    "df.info()"
   ]
  },
  {
   "cell_type": "code",
   "execution_count": 58,
   "metadata": {},
   "outputs": [],
   "source": [
    "# convert different values into their respective types \n",
    "df.apartment_type = df.apartment_type.astype(str)"
   ]
  },
  {
   "cell_type": "code",
   "execution_count": 60,
   "metadata": {},
   "outputs": [
    {
     "data": {
      "text/plain": [
       "array(['2K', '1DK', '1K', '1LDK', '2DK'], dtype=object)"
      ]
     },
     "execution_count": 60,
     "metadata": {},
     "output_type": "execute_result"
    }
   ],
   "source": [
    "df.apartment_type.unique()"
   ]
  },
  {
   "cell_type": "code",
   "execution_count": null,
   "metadata": {},
   "outputs": [],
   "source": []
  }
 ],
 "metadata": {
  "kernelspec": {
   "display_name": "Python 3",
   "language": "python",
   "name": "python3"
  },
  "language_info": {
   "codemirror_mode": {
    "name": "ipython",
    "version": 3
   },
   "file_extension": ".py",
   "mimetype": "text/x-python",
   "name": "python",
   "nbconvert_exporter": "python",
   "pygments_lexer": "ipython3",
   "version": "3.6.9"
  }
 },
 "nbformat": 4,
 "nbformat_minor": 4
}
